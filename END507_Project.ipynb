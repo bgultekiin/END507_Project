{
 "cells": [
  {
   "cell_type": "code",
   "execution_count": 1,
   "metadata": {
    "id": "3v48D5tgVK4Z"
   },
   "outputs": [],
   "source": [
    "import numpy as np\n",
    "import time\n",
    "import copy\n",
    "import random\n",
    "from time import process_time\n",
    "'''initialization setting'''\n",
    "num_job=40 # number of jobs\n",
    "population_size=80\n",
    "crossover_rate=0.8\n",
    "mutation_rate=0.1\n",
    "num_iteration=10000\n",
    "replikasyon=10\n",
    "'''processing time'''\n",
    "p=[26,24,79,46,32,35,73,74,14,67,86,46,78,40,29,94,64,27,90,55,35,52,36,69,85,95,14,78,37,86,44,28,39,12,30,68,70,9,49,50]\n",
    "'''weight'''\n",
    "w=[1,10,9,10,10,4,3,2,10,3,7,3,1,3,10,4,7,7,4,7,5,3,5,4,9,5,2,8,10,4,7,4,9,5,7,7,5,10,1,3]\n",
    "'''due date'''\n",
    "d=[1588,1620,1731,1773,1694,1487,1566,1844,1727,1636,1599,1539,1855,1645,1709,1660,1582,1836,1484,1559,1772,1510,1512,1795,1522,1509,1598,1658,1826,1628,1650,1833,1627,1528,1541,1497,1481,1446,1579,1814]"
   ]
  },
  {
   "cell_type": "code",
   "execution_count": 2,
   "metadata": {
    "colab": {
     "base_uri": "https://localhost:8080/",
     "height": 35
    },
    "id": "6MI9yiPtVK4c",
    "outputId": "c4231fe5-5b98-45e7-ed74-6657ef4d0c0a"
   },
   "outputs": [],
   "source": [
    "def generateInitialPopulation(population_size):\n",
    "    population_list=[]\n",
    "    for i in range(population_size):\n",
    "        #np.random.seed(i)\n",
    "        random_num=list(np.random.permutation(num_job)) # generate a random permutation of 0 to num_job-1\n",
    "        population_list.append(random_num) # add to the population_list\n",
    "    return(population_list)"
   ]
  },
  {
   "cell_type": "code",
   "execution_count": 3,
   "metadata": {
    "colab": {
     "base_uri": "https://localhost:8080/",
     "height": 52
    },
    "id": "di0snMIlVK4c",
    "outputId": "4e94402e-2778-47a9-9ed3-f13267f63bd3"
   },
   "outputs": [],
   "source": [
    "def fitnessValue(solution):\n",
    "    ptime=0\n",
    "    tardiness=0\n",
    "    for j in range(num_job):\n",
    "        ptime=ptime+p[solution[j]]\n",
    "        tardiness=tardiness+w[solution[j]]*max(ptime-d[solution[j]],0)\n",
    "    return (tardiness)"
   ]
  },
  {
   "cell_type": "code",
   "execution_count": 4,
   "metadata": {
    "id": "2K8Pqi-9VK4d"
   },
   "outputs": [],
   "source": [
    "def binary_tournament(population):\n",
    "    parent = []\n",
    "    candidates = random.sample(population,2)\n",
    "    tardiness1 = fitnessValue(candidates[0])\n",
    "    tardiness2 = fitnessValue(candidates[1])\n",
    "    if tardiness1 < tardiness2:\n",
    "        parent = candidates[0]\n",
    "    else:\n",
    "        parent = candidates[1]\n",
    "    return parent"
   ]
  },
  {
   "cell_type": "code",
   "execution_count": 5,
   "metadata": {
    "id": "hy2Qn6HtVK4d"
   },
   "outputs": [],
   "source": [
    "'''MATING POOL'''\n",
    "def select_parent(population):\n",
    "    parent_pairs = []\n",
    "    # randomly choose how many parent pairs will be selected\n",
    "    parent_pair_count = random.randint(2, int(len(population)/2)) #number of pairs (2,populationSize/2)-->random\n",
    "    for k in range(parent_pair_count):\n",
    "        parent1 = binary_tournament(population)\n",
    "        parent2 = binary_tournament(population)\n",
    "        if parent1 != parent2 and (parent1, parent2) not in parent_pairs:\n",
    "            parent_pairs.append((parent1, parent2))\n",
    "    return parent_pairs"
   ]
  },
  {
   "cell_type": "code",
   "execution_count": 6,
   "metadata": {
    "colab": {
     "base_uri": "https://localhost:8080/",
     "height": 35
    },
    "id": "SaTlCPJFVK4d",
    "outputId": "900f138b-6aeb-4cc0-c9e7-e074031e885f"
   },
   "outputs": [],
   "source": [
    "def crossover(parents):      #2-point crossover\n",
    "    parent1 = parents[0]\n",
    "    parent2 = parents[1]\n",
    "    length_of_parent = len(parent1)\n",
    "    points=random.sample(range(1, length_of_parent), 2) # 2 random points , range (1,length_of_parent)\n",
    "    if points[0]<points[1]:\n",
    "        first_point=points[0]\n",
    "        second_point=points[1]\n",
    "    else:\n",
    "        first_point=points[1]\n",
    "        second_point=points[0]\n",
    "    intersect1 = parent1[first_point:second_point]\n",
    "    intersect2 = parent2[first_point:second_point]\n",
    "\n",
    "    child1 = []\n",
    "    child2 = []\n",
    "    index1 = 0\n",
    "    for pos2 in range(len(parent2)):\n",
    "        if first_point <= index1 < second_point:\n",
    "            child1.extend(intersect1)\n",
    "            index1 = second_point\n",
    "        if parent2[pos2] not in intersect1:\n",
    "                child1.append(parent2[pos2])\n",
    "                index1 += 1\n",
    "    index2 = 0\n",
    "    for pos2 in range(len(parent1)):\n",
    "        if first_point <= index2 < second_point:\n",
    "            child2.extend(intersect2)\n",
    "            index2 = second_point\n",
    "        if parent1[pos2] not in intersect2:\n",
    "                child2.append(parent1[pos2])\n",
    "                index2 += 1\n",
    "\n",
    "    return child1, child2"
   ]
  },
  {
   "cell_type": "code",
   "execution_count": 7,
   "metadata": {
    "id": "KYsr5FqFVK4f"
   },
   "outputs": [],
   "source": [
    "def mutation(solution):\n",
    "    # copy the solution\n",
    "    mutated_solution = list(solution)\n",
    "    solution_length = len(solution)\n",
    "    # pick 2 positions to swap randomly\n",
    "    swap_positions = list(np.random.permutation(np.arange(solution_length))[:2])\n",
    "    first_job = solution[swap_positions[0]]\n",
    "    second_job = solution[swap_positions[1]]\n",
    "    mutated_solution[swap_positions[0]] = second_job\n",
    "    mutated_solution[swap_positions[1]] = first_job\n",
    "    return mutated_solution"
   ]
  },
  {
   "cell_type": "code",
   "execution_count": 8,
   "metadata": {
    "id": "PlNjLt0oVK4f"
   },
   "outputs": [],
   "source": [
    "def update_population(population, children):\n",
    "    costed_population = []\n",
    "    for individual in population:\n",
    "        ind_tardiness = (fitnessValue(individual), individual)\n",
    "        costed_population.append(ind_tardiness)\n",
    "    costed_population.sort(key=lambda x: x[0], reverse=True)  #descending order\n",
    "\n",
    "    costed_children = []\n",
    "    for individual in children:\n",
    "        ind_tardiness = (fitnessValue(individual), individual)\n",
    "        costed_children.append(ind_tardiness)\n",
    "    costed_children.sort(key=lambda x: x[0])\n",
    "    for child in costed_children:\n",
    "        if child not in population:\n",
    "            population.append(individual)\n",
    "            population.remove(costed_population[0][1])\n",
    "            break\n",
    "    return(population)"
   ]
  },
  {
   "cell_type": "code",
   "execution_count": 9,
   "metadata": {
    "colab": {
     "base_uri": "https://localhost:8080/"
    },
    "id": "oOrxzcFuVK4g",
    "outputId": "e7a26a1f-875b-468f-aef0-ae1d9b7756ec"
   },
   "outputs": [
    {
     "name": "stdout",
     "output_type": "stream",
     "text": [
      "Solution(sequence of jobs processed by the machines): [32, 5, 13, 29, 25, 20, 34, 10, 4, 17, 33, 21, 31, 1, 14, 24, 37, 3, 36, 27, 9, 18, 30, 0, 26, 22, 19, 16, 8, 11, 35, 6, 15, 2, 23, 28, 39, 7, 38, 12]\n",
      "Objective Value of the Best Chromosome: 956\n",
      "Average Objective Value of All Chromosomes: 956.10\n",
      "CPU Time (s) 51.53\n",
      "Solution(sequence of jobs processed by the machines): [35, 19, 11, 28, 36, 26, 30, 18, 38, 8, 0, 34, 16, 32, 17, 1, 33, 24, 27, 37, 22, 5, 25, 21, 29, 14, 10, 4, 13, 6, 3, 9, 15, 2, 20, 39, 31, 23, 7, 12]\n",
      "Objective Value of the Best Chromosome: 1018\n",
      "Average Objective Value of All Chromosomes: 1030.56\n",
      "CPU Time (s) 54.97\n",
      "Solution(sequence of jobs processed by the machines): [24, 14, 33, 25, 5, 30, 35, 21, 18, 8, 37, 3, 38, 16, 32, 20, 26, 11, 6, 15, 4, 9, 1, 10, 13, 19, 0, 34, 36, 22, 27, 29, 2, 23, 28, 17, 31, 39, 7, 12]\n",
      "Objective Value of the Best Chromosome: 913\n",
      "Average Objective Value of All Chromosomes: 976.70\n",
      "CPU Time (s) 54.31\n",
      "Solution(sequence of jobs processed by the machines): [1, 34, 26, 25, 16, 5, 11, 8, 35, 24, 36, 14, 37, 31, 10, 33, 32, 17, 21, 27, 6, 9, 0, 13, 30, 3, 4, 19, 29, 18, 22, 20, 15, 2, 23, 28, 39, 7, 38, 12]\n",
      "Objective Value of the Best Chromosome: 956\n",
      "Average Objective Value of All Chromosomes: 958.40\n",
      "CPU Time (s) 58.08\n",
      "Solution(sequence of jobs processed by the machines): [18, 5, 17, 13, 4, 14, 37, 30, 11, 35, 0, 22, 16, 9, 26, 36, 32, 19, 29, 2, 24, 10, 6, 27, 1, 25, 33, 34, 8, 21, 38, 15, 20, 28, 3, 39, 31, 23, 7, 12]\n",
      "Objective Value of the Best Chromosome: 1018\n",
      "Average Objective Value of All Chromosomes: 1018.00\n",
      "CPU Time (s) 61.06\n",
      "Solution(sequence of jobs processed by the machines): [27, 36, 1, 24, 37, 5, 26, 22, 19, 35, 10, 29, 6, 8, 14, 9, 30, 13, 4, 34, 33, 20, 21, 16, 32, 25, 28, 31, 3, 18, 11, 0, 15, 2, 23, 17, 39, 7, 38, 12]\n",
      "Objective Value of the Best Chromosome: 956\n",
      "Average Objective Value of All Chromosomes: 956.00\n",
      "CPU Time (s) 56.95\n",
      "Solution(sequence of jobs processed by the machines): [30, 36, 6, 23, 29, 35, 26, 11, 1, 18, 16, 4, 34, 37, 10, 33, 5, 25, 14, 17, 32, 22, 19, 8, 27, 3, 9, 21, 24, 0, 13, 15, 2, 20, 31, 28, 39, 7, 38, 12]\n",
      "Objective Value of the Best Chromosome: 956\n",
      "Average Objective Value of All Chromosomes: 956.00\n",
      "CPU Time (s) 57.88\n",
      "Solution(sequence of jobs processed by the machines): [5, 14, 16, 20, 1, 10, 8, 33, 13, 21, 34, 4, 9, 36, 0, 26, 37, 6, 24, 29, 19, 3, 18, 27, 25, 30, 35, 32, 22, 11, 28, 15, 2, 23, 39, 17, 31, 7, 38, 12]\n",
      "Objective Value of the Best Chromosome: 930\n",
      "Average Objective Value of All Chromosomes: 930.00\n",
      "CPU Time (s) 64.48\n",
      "Solution(sequence of jobs processed by the machines): [25, 37, 27, 5, 8, 34, 32, 13, 21, 24, 16, 30, 33, 0, 20, 15, 18, 36, 10, 4, 38, 6, 26, 11, 35, 3, 22, 19, 9, 1, 29, 14, 2, 23, 28, 17, 31, 39, 7, 12]\n",
      "Objective Value of the Best Chromosome: 913\n",
      "Average Objective Value of All Chromosomes: 944.49\n",
      "CPU Time (s) 59.55\n",
      "Solution(sequence of jobs processed by the machines): [24, 27, 31, 32, 37, 18, 25, 26, 3, 1, 33, 0, 8, 4, 20, 11, 13, 22, 5, 35, 14, 29, 30, 34, 16, 36, 21, 9, 17, 6, 19, 10, 15, 2, 23, 28, 39, 7, 38, 12]\n",
      "Objective Value of the Best Chromosome: 956\n",
      "Average Objective Value of All Chromosomes: 963.50\n",
      "CPU Time (s) 58.64\n"
     ]
    }
   ],
   "source": [
    "\"\"\"MAIN CODE\"\"\"\n",
    "for m in range (replikasyon):\n",
    "    # Initialize population\n",
    "    population = generateInitialPopulation(population_size)\n",
    "\n",
    "    # Start time for CPU calculation\n",
    "    start_time = process_time()\n",
    "\n",
    "    for evaluation in range(num_iteration):\n",
    "        # Select parents\n",
    "        parent_list = select_parent(population)\n",
    "        childs = []\n",
    "\n",
    "        # Apply crossover to generate children\n",
    "        for parents in parent_list:\n",
    "            r = np.random.rand()\n",
    "            if r < crossover_rate:\n",
    "                childs.extend(crossover(parents))\n",
    "            else:\n",
    "                childs.append(parents[0])\n",
    "                childs.append(parents[1])\n",
    "\n",
    "        # Apply mutation operation to change the order of the n-jobs\n",
    "        mutated_childs = []\n",
    "        for child in childs:\n",
    "            r = np.random.rand()\n",
    "            if r < mutation_rate:\n",
    "                mutated_child = mutation(child)\n",
    "                mutated_childs.append(mutated_child)\n",
    "\n",
    "        childs.extend(mutated_childs)\n",
    "        if len(childs) > 0:\n",
    "            update_population(population, childs)\n",
    "        \n",
    "\n",
    "    # End time for CPU calculation        \n",
    "    end_time = process_time()\n",
    "\n",
    "    costed_population = []\n",
    "    for individual in population:\n",
    "        ind_tardiness = (fitnessValue(individual), individual)\n",
    "        costed_population.append(ind_tardiness)\n",
    "    costed_population.sort(key=lambda x: x[0])\n",
    "\n",
    "    avgObjective = sum(t[0] for t in costed_population) / len(costed_population)\n",
    "    bestObjective = costed_population[0][0]\n",
    "\n",
    "    print(\"Solution(sequence of jobs processed by the machines):\", costed_population[0][1])\n",
    "    print(\"Objective Value of the Best Chromosome:\", str(bestObjective))\n",
    "    print(\"Average Objective Value of All Chromosomes:\", \"%.2f\" %avgObjective)\n",
    "    print(\"CPU Time (s)\", \"%.2f\" %(end_time - start_time))\n",
    "    #print(costed_population)\n",
    "\n",
    "    '''PRINT TO TXT FILE'''\n",
    "    with open(\"replikasyon_{0}.txt\".format(m), 'w') as f:\n",
    "        print(\"Solution(sequence of jobs processed by the machines):\", costed_population[0][1], file=f)\n",
    "        print(\"Objective Value of the Best Chromosome:\", str(bestObjective), file=f)\n",
    "        print(\"Average Objective Value of All Chromosomes:\", \"%.2f\" %avgObjective, file=f)\n",
    "        print(\"CPU Time (s)\", \"%.2f\" %(end_time - start_time), file=f) \n",
    "        print(costed_population, file=f)"
   ]
  },
  {
   "cell_type": "markdown",
   "metadata": {
    "id": "JdEWl3rER9td"
   },
   "source": []
  },
  {
   "cell_type": "markdown",
   "metadata": {
    "id": "uRvRAHSdR-Kx"
   },
   "source": []
  },
  {
   "cell_type": "code",
   "execution_count": null,
   "metadata": {
    "id": "1HO7brunVK4h"
   },
   "outputs": [],
   "source": []
  }
 ],
 "metadata": {
  "colab": {
   "collapsed_sections": [],
   "name": "GA.ipynb",
   "provenance": []
  },
  "kernelspec": {
   "display_name": "Python 3",
   "language": "python",
   "name": "python3"
  },
  "language_info": {
   "codemirror_mode": {
    "name": "ipython",
    "version": 3
   },
   "file_extension": ".py",
   "mimetype": "text/x-python",
   "name": "python",
   "nbconvert_exporter": "python",
   "pygments_lexer": "ipython3",
   "version": "3.8.5"
  }
 },
 "nbformat": 4,
 "nbformat_minor": 1
}
